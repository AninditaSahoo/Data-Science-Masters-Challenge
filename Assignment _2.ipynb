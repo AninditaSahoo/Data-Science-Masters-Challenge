{
 "cells": [
  {
   "cell_type": "markdown",
   "metadata": {},
   "source": [
    "# Data Science Masters Challenge\n",
    "## Assignment -2 :"
   ]
  },
  {
   "cell_type": "markdown",
   "metadata": {},
   "source": [
    "<b>Q1. </b>1.What are the two values of the Boolean data type? How do you write them?"
   ]
  },
  {
   "cell_type": "markdown",
   "metadata": {},
   "source": [
    "<b>Answer </b>\n",
    "\n",
    "Two boolean data types as <b>True</b> and <b>False</b>. We write them as <b>True</b> and <b>False</b>"
   ]
  },
  {
   "cell_type": "markdown",
   "metadata": {},
   "source": [
    "<b> Q2. </b> What are the three different types of Boolean operators?"
   ]
  },
  {
   "cell_type": "markdown",
   "metadata": {},
   "source": [
    "<b> Answer </b>\n",
    "\n",
    "The three types of booleand opaerators are <b>and </b>, <b>or</b> , <b>not</b>."
   ]
  },
  {
   "cell_type": "markdown",
   "metadata": {},
   "source": [
    "<b>Q3.</b> Make a list of each Boolean operator&#39;s truth tables (i.e. every possible combination of Boolean\n",
    "values for the operator and what it evaluate)."
   ]
  },
  {
   "cell_type": "markdown",
   "metadata": {},
   "source": [
    "<b> Answer </b> \n",
    "<table style=\"border:1px solid black;\" align=\"left\">\n",
    "    <tr text-align: center><th>A</th><th>B</th><th>A and B</th><th>A or B</th><th>not A</th></tr>\n",
    "    <tr><td > 0 </td> <td> 0</td><td>0</td><td>0</td><td>1</td></tr>\n",
    "    <tr><td > 0 </td> <td> 1</td><td>0</td><td>1</td><td>1</td></tr>\n",
    "    <tr><td > 1 </td> <td> 0</td><td>0</td><td>1</td><td>0</td></tr>\n",
    "    <tr><td > 1 </td> <td> 1</td><td>1</td><td>1</td><td>0</td></tr>\n",
    "</table>"
   ]
  },
  {
   "cell_type": "markdown",
   "metadata": {},
   "source": [
    "<b>Q4. </b> What are the values of the following expressions?\n",
    "\n",
    "(5 &gt; 4) and (3 == 5)\n",
    "\n",
    "not (5 &gt; 4)\n",
    "\n",
    "(5 &gt; 4) or (3 == 5)\n",
    "\n",
    "not ((5 &gt; 4) or (3 == 5))\n",
    "\n",
    "(True and True) and (True == False)\n",
    "\n",
    "(not False) or (not True)"
   ]
  },
  {
   "cell_type": "markdown",
   "metadata": {},
   "source": [
    "<b> Answer </b> \n",
    "<table style=\"border:1px solid black;\" align=\"left\">\n",
    "    <tr><th>Expression</th> <th>Values</th> </tr>\n",
    "    <tr><td> (5 > 4) and (3 == 5) </td> <td>False</td></tr>\n",
    "    <tr><td> not (5 &gt; 4) </td> <td>False</td></tr>\n",
    "    <tr><td> (5 &gt; 4) or (3 == 5) </td><td>True</td></tr>\n",
    "    <tr><td> not ((5 &gt; 4) or (3 == 5)) </td> <td>False</td></tr>\n",
    "    <tr><td> (True and True) and (True == False) </td> <td>False</td></tr>\n",
    "    <tr><td> (not False) or (not True) </td> <td>True</td></tr>\n",
    "</table>"
   ]
  },
  {
   "cell_type": "code",
   "execution_count": 1,
   "metadata": {},
   "outputs": [
    {
     "name": "stdout",
     "output_type": "stream",
     "text": [
      "False\n",
      "False\n",
      "True\n",
      "False\n",
      "False\n",
      "True\n"
     ]
    }
   ],
   "source": [
    "print((5>4)and(3==5))\n",
    "print(not(5>4))\n",
    "print((5>4) or(3==5))\n",
    "print(not((5>4) or (3==5)))\n",
    "print((True and True)and(True==False))\n",
    "print((not False)or(not True))"
   ]
  },
  {
   "cell_type": "markdown",
   "metadata": {},
   "source": [
    "<b> Q5. </b> What are the six comparison operators?"
   ]
  },
  {
   "cell_type": "markdown",
   "metadata": {},
   "source": [
    "<b> Answer : </b>\n",
    "\n",
    "The six comparision operation are: \n",
    "<li>>(greater than)</li> \n",
    "<li>< (less than) </li> \n",
    "<li>>= (greater than equal to)</li>\n",
    "<li><= (less than equal to)</li>\n",
    "<li>!= (Not equal to)</li>\n",
    "<li>== (equal to)</li>"
   ]
  },
  {
   "cell_type": "markdown",
   "metadata": {},
   "source": [
    "<b> Q6. </b>How do you tell the difference between the equal to and assignment operators?Describe a\n",
    "condition and when you would use one."
   ]
  },
  {
   "cell_type": "markdown",
   "metadata": {},
   "source": [
    "<b> Answer</b> \n",
    "\n",
    "<li> equal to is denoted as <b>==</b> it is a condiitional operator, used to check the condition.(e.g. <b>if a==5:</b>)\n",
    "<li> assignement operator is denoted as <b>=</b> it is used for item assignment(assign the value to the variable). \n",
    "(e.g. <b>a =5</b>)"
   ]
  },
  {
   "cell_type": "markdown",
   "metadata": {},
   "source": [
    "<b> Q7.</b>Identify the three blocks in this code:\n",
    "\n",
    "spam = 0\n",
    "<br>if spam == 10:</br>\n",
    "print(&#39;eggs&#39;)\n",
    "<br>if spam &gt; 5:</br>\n",
    "print(&#39;bacon&#39;)\n",
    "<br>else:</br>\n",
    "print(&#39;ham&#39;) \n",
    "<br>print(&#39;spam&#39;)</br>\n",
    "print(&#39;spam&#39;)"
   ]
  },
  {
   "attachments": {
    "image.png": {
     "image/png": "[encoded data removed]"
    }
   },
   "cell_type": "markdown",
   "metadata": {},
   "source": [
    "![image.png](attachment:image.png)"
   ]
  },
  {
   "cell_type": "code",
   "execution_count": 2,
   "metadata": {},
   "outputs": [
    {
     "name": "stdout",
     "output_type": "stream",
     "text": [
      "ham\n",
      "ham\n",
      "ham\n"
     ]
    }
   ],
   "source": [
    "spam = 0\n",
    "if spam ==10:\n",
    "    print(\"eggs\")\n",
    "if spam >5:\n",
    "    print(\"bacon\")\n",
    "else:\n",
    "    print(\"ham\")\n",
    "    print(\"ham\")\n",
    "    print(\"ham\")"
   ]
  },
  {
   "cell_type": "markdown",
   "metadata": {},
   "source": [
    "<b>Q8. </b>Write code that prints Hello if 1 is stored in spam, prints Howdy if 2 is stored in spam, and prints\n",
    "Greetings! if anything else is stored in spam."
   ]
  },
  {
   "cell_type": "code",
   "execution_count": 3,
   "metadata": {},
   "outputs": [
    {
     "name": "stdout",
     "output_type": "stream",
     "text": [
      "Entered number is :  1\n",
      "Hello\n",
      "Entered number is :  2\n",
      "Howdy\n",
      "Entered number is :  3\n",
      "Greetings! \n"
     ]
    }
   ],
   "source": [
    "#spam = int(input(\"Enter a number : \"))\n",
    "for spam in [1,2,3]:\n",
    "    print(\"Entered number is : \",spam)\n",
    "    if spam == 1:\n",
    "        print(\"Hello\")\n",
    "    elif spam == 2:\n",
    "        print(\"Howdy\")\n",
    "    else:\n",
    "        print(\"Greetings! \")"
   ]
  },
  {
   "cell_type": "markdown",
   "metadata": {},
   "source": [
    "<b>Q9. </b> If your programme is stuck in an endless loop, what keys you’ll press?"
   ]
  },
  {
   "cell_type": "markdown",
   "metadata": {},
   "source": [
    "<b> Answer </b>\n",
    "\n",
    "An infinite loop occurs when a program keeps executing within one loop, never leaving it. \n",
    "\n",
    "To exit out of infinite loops on the command line, we can press \"CTRL + C\"."
   ]
  },
  {
   "cell_type": "markdown",
   "metadata": {},
   "source": [
    "<b> Q10. </b>How can you tell the difference between break and continue? "
   ]
  },
  {
   "cell_type": "markdown",
   "metadata": {},
   "source": [
    "<b> Answer </b> \n",
    "<table style=\"border:1px solid black;\" align=\"left\">\n",
    "    <tr><th>Break</th> <th>Continue</th> </tr>\n",
    "    <tr><td> A loop control structure which causes the loop to terminate and pass the control to the next statement following the loop. </td> <td>A loop control structure that causes the loop to jump to the next iteration of the loop immediately.</td></tr>\n",
    "    <tr><td> Helps to terminate the execution of the loop </td> <td>Helps to skip statements inside the loop</td></tr>\n",
    "    <tr><td><br><b><u>program</u></b>\n",
    "        <br>for i in range(1,5):\n",
    "    <br>if i == 3:\n",
    "        <br>break;\n",
    "        <br>print(i,end =\" \")\n",
    "        <br><b> <u> output:</u></b>\n",
    "        <br>1 2</td>\n",
    "        <td><br><b><u>program</u></b>\n",
    "        <br>for i in range(1,5):\n",
    "    <br>if i == 3:\n",
    "        <br>continue;\n",
    "        <br>print(i,end =\" \")\n",
    "        <br><b> <u> output:</u></b>\n",
    "            <br>1 2 4</td></tr>\n",
    "</table>"
   ]
  },
  {
   "cell_type": "code",
   "execution_count": 4,
   "metadata": {},
   "outputs": [
    {
     "name": "stdout",
     "output_type": "stream",
     "text": [
      "1 2  coming out of the loop\n"
     ]
    }
   ],
   "source": [
    "for i in range(1,5):\n",
    "    if i == 3:\n",
    "        break\n",
    "    print(i,end =\" \")\n",
    "print(\" coming out of the loop\")"
   ]
  },
  {
   "cell_type": "code",
   "execution_count": 5,
   "metadata": {},
   "outputs": [
    {
     "name": "stdout",
     "output_type": "stream",
     "text": [
      "1 2 4 \n"
     ]
    }
   ],
   "source": [
    "for i in range(1,5):\n",
    "    if i == 3:\n",
    "        continue\n",
    "    print(i,end =\" \")\n",
    "print(\"\")"
   ]
  },
  {
   "cell_type": "markdown",
   "metadata": {},
   "source": [
    "<b>Q11.  </b>In a for loop, what is the difference between range(10), range(0, 10), and range(0, 10, 1)?"
   ]
  },
  {
   "cell_type": "markdown",
   "metadata": {},
   "source": [
    "<b> Answer </b>\n",
    "\n",
    "There is <b>no difference</b> between range(10), range(0, 10), and range(0, 10, 1)"
   ]
  },
  {
   "cell_type": "code",
   "execution_count": 6,
   "metadata": {},
   "outputs": [
    {
     "name": "stdout",
     "output_type": "stream",
     "text": [
      "0 1 2 3 4 5 6 7 8 9 \n",
      "0 1 2 3 4 5 6 7 8 9 \n",
      "0 1 2 3 4 5 6 7 8 9 "
     ]
    }
   ],
   "source": [
    "for i in range(10):\n",
    "    print(i,end = \" \")\n",
    "print()\n",
    "for i in range(0,10):\n",
    "    print(i,end = \" \")\n",
    "print()\n",
    "for i in range(0,10,1):\n",
    "    print(i, end = \" \")"
   ]
  },
  {
   "cell_type": "markdown",
   "metadata": {},
   "source": [
    "<b>Q12. </b> Write a short program that prints the numbers 1 to 10 using a for loop. Then write an equivalent\n",
    "program that prints the numbers 1 to 10 using a while loop."
   ]
  },
  {
   "cell_type": "code",
   "execution_count": 7,
   "metadata": {},
   "outputs": [
    {
     "name": "stdout",
     "output_type": "stream",
     "text": [
      "Output from for loop: 1 2 3 4 5 6 7 8 9 10 \n",
      "Output from while loop: 1 2 3 4 5 6 7 8 9 10 "
     ]
    }
   ],
   "source": [
    "print(\"Output from for loop:\",end = \" \")\n",
    "for i in range(1,11):\n",
    "    print(i,end = \" \")\n",
    "\n",
    "print()\n",
    "print(\"Output from while loop:\", end =\" \")\n",
    "num=1\n",
    "while num<11:\n",
    "    print(num,end =\" \")\n",
    "    num += 1"
   ]
  },
  {
   "cell_type": "markdown",
   "metadata": {},
   "source": [
    "<b>Q13. </b> If you had a function named bacon() inside a module named spam, how would you call it after\n",
    "importing spam?"
   ]
  },
  {
   "cell_type": "code",
   "execution_count": null,
   "metadata": {},
   "outputs": [],
   "source": [
    "import spam\n",
    "spam.bacon()\n",
    "bacon() can be called by using dot operator."
   ]
  }
 ],
 "metadata": {
  "kernelspec": {
   "display_name": "Python 3 (ipykernel)",
   "language": "python",
   "name": "python3"
  },
  "language_info": {
   "codemirror_mode": {
    "name": "ipython",
    "version": 3
   },
   "file_extension": ".py",
   "mimetype": "text/x-python",
   "name": "python",
   "nbconvert_exporter": "python",
   "pygments_lexer": "ipython3",
   "version": "3.8.5"
  },
  "toc": {
   "base_numbering": 1,
   "nav_menu": {},
   "number_sections": true,
   "sideBar": true,
   "skip_h1_title": false,
   "title_cell": "Table of Contents",
   "title_sidebar": "Contents",
   "toc_cell": false,
   "toc_position": {},
   "toc_section_display": true,
   "toc_window_display": false
  }
 },
 "nbformat": 4,
 "nbformat_minor": 4
}
