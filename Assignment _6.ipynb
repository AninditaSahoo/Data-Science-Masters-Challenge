{
 "cells": [
  {
   "cell_type": "markdown",
   "metadata": {},
   "source": [
    "# Data Science Masters Challenge\n",
    "## Assignment -6 :"
   ]
  },
  {
   "cell_type": "markdown",
   "metadata": {},
   "source": [
    "<b>Q1. </b>What are escape characters, and how do you use them?"
   ]
  },
  {
   "cell_type": "markdown",
   "metadata": {},
   "source": [
    "<b> Answer: </b>\n",
    "In Python strings, the backslash \"\\\\\" is a special character, also called the <b>\"escape\" </b>character. It is used in representing certain whitespace characters: \n",
    "<li>\"\\t\" is a <b>tab</b>, <li>\"\\n\" is a <b>newline</b>, and <li>\"\\r\" is a <b>carriage return</b>.    \n",
    "<br>Conversely, prefixing a special character with \"\\\" turns it into an ordinary character.This is called <b><i>\"escaping\"</i></b>. \n",
    "<br><b>For example</b>,\n",
    "    <li>\"\\'\" is the single quote character. 'It\\'s raining' therefore is a valid string and equivalent to \"It's raining\". <li>Likewise, '\"' can be escaped: \"\\\"hello\\\"\" is a string begins and ends with the literal double quote character. <li>Finally, \"\\\" can be used to escape itself: \"\\\\\" is the literal backslash character."
   ]
  },
  {
   "cell_type": "markdown",
   "metadata": {},
   "source": [
    "<b>Q2. </b>What do the escape characters n and t stand for?"
   ]
  },
  {
   "cell_type": "markdown",
   "metadata": {},
   "source": [
    "<b> Answer: </b>\n",
    "    \n",
    "<li>\"\\t\" is a <b>tab</b>, <li>\"\\n\" is a <b>newline</b>"
   ]
  },
  {
   "cell_type": "markdown",
   "metadata": {},
   "source": [
    "<b>Q3. </b>What is the way to include backslash characters in a string?"
   ]
  },
  {
   "cell_type": "markdown",
   "metadata": {},
   "source": [
    "<b> Answer: </b>\n",
    "\n",
    "\"\\\\\" can be used to escape itself: \"\\\\\\\\\" is the literal <b>backslash character</b>."
   ]
  },
  {
   "cell_type": "markdown",
   "metadata": {},
   "source": [
    "<b>Q4. </b>The string \"Howl's Moving Castle\" is a correct value. Why isn't the single quote character in the\n",
    "word Howl's not escaped a problem?"
   ]
  },
  {
   "cell_type": "markdown",
   "metadata": {},
   "source": [
    "<b>Answer:</b>\n",
    "\n",
    "The string <b>\"Howl's Moving Castle\"</b> is a correct value. <br>The single quote character in the word Howl's not escaped.\n",
    "<br> This should be written as <b>Howl\\\\'s Moving Castle</b> to avoid the problem."
   ]
  },
  {
   "cell_type": "markdown",
   "metadata": {},
   "source": [
    "<b>Q5. </b> How do you write a string of newlines if you don't want to use the n character?"
   ]
  },
  {
   "cell_type": "markdown",
   "metadata": {},
   "source": [
    "<b> Answer: </b>\n",
    "\n",
    "The new lines in a string is written by using the <b>\\\\n character</b>."
   ]
  },
  {
   "cell_type": "markdown",
   "metadata": {},
   "source": [
    "<b>Q6. </b> What are the values of the given expressions?\n",
    "\n",
    "'Hello, world!'[1]\n",
    "\n",
    "'Hello, world!'[0:5]\n",
    "\n",
    "'Hello, world!'[:5]\n",
    "\n",
    "'Hello, world!'[3:]"
   ]
  },
  {
   "cell_type": "markdown",
   "metadata": {},
   "source": [
    "<b> Answer :</b>\n",
    "\n",
    "The values of the given expressions are:\n",
    "<table style=\"border:1px solid black;\" align=\"left\">\n",
    "    <tr><th>Expression</th> <th>Values</th> </tr>\n",
    "    <tr><td> 'Hello, world!'[1] </td> <td>'e'</td></tr>\n",
    "    <tr><td> 'Hello, world!'[0:5] </td> <td>'Hello'</td></tr>\n",
    "    <tr><td> 'Hello, world!'[:5] </td><td>'Hello'</td></tr>\n",
    "    <tr><td> 'Hello, world!'[3:] </td> <td>'lo, world!'</td></tr>\n",
    "</table>"
   ]
  },
  {
   "cell_type": "code",
   "execution_count": 1,
   "metadata": {},
   "outputs": [
    {
     "name": "stdout",
     "output_type": "stream",
     "text": [
      "e\n",
      "Hello\n",
      "Hello\n",
      "lo, world!\n"
     ]
    }
   ],
   "source": [
    "print('Hello, world!'[1])\n",
    "print('Hello, world!'[0:5])\n",
    "print('Hello, world!'[:5])\n",
    "print('Hello, world!'[3:])"
   ]
  },
  {
   "cell_type": "markdown",
   "metadata": {},
   "source": [
    "e\n",
    "<br>Hello\n",
    "<br>Hello\n",
    "<br>lo, world!"
   ]
  },
  {
   "cell_type": "markdown",
   "metadata": {},
   "source": [
    "<b> Q7. </b>What are the values of the following expressions?\n",
    "\n",
    "'Hello'.upper()\n",
    "\n",
    "'Hello'.upper().isupper()\n",
    "\n",
    "'Hello'.upper().lower()"
   ]
  },
  {
   "cell_type": "markdown",
   "metadata": {},
   "source": [
    "<b> Answer :</b>\n",
    "\n",
    "The values of the given expressions are:\n",
    "<table style=\"border:1px solid black;\" align=\"left\">\n",
    "    <tr><th>Expression</th> <th>Values</th> </tr>\n",
    "    <tr><td> 'Hello'.upper() </td> <td>'HELLO'</td></tr>\n",
    "    <tr><td> 'Hello'.upper().isupper()</td> <td><b>True</b></td></tr>\n",
    "    <tr><td> 'Hello'.upper().lower() </td><td>'hello'</td></tr>\n",
    "</table>"
   ]
  },
  {
   "cell_type": "code",
   "execution_count": 2,
   "metadata": {},
   "outputs": [
    {
     "name": "stdout",
     "output_type": "stream",
     "text": [
      "HELLO\n",
      "True\n",
      "hello\n"
     ]
    }
   ],
   "source": [
    "print('Hello'.upper())\n",
    "print('Hello'.upper().isupper())\n",
    "print('Hello'.upper().lower())"
   ]
  },
  {
   "cell_type": "markdown",
   "metadata": {},
   "source": [
    "HELLO\n",
    "<br>True\n",
    "<br>hello"
   ]
  },
  {
   "cell_type": "markdown",
   "metadata": {},
   "source": [
    "<b>Q8. </b>What are the values of the following expressions?\n",
    "\n",
    "'Remember, remember, the fifth of July.'.split()\n",
    "\n",
    "'-'.join('There can only one.'.split())"
   ]
  },
  {
   "cell_type": "markdown",
   "metadata": {},
   "source": [
    "<b> Answer :</b>\n",
    "\n",
    "The values of the given expressions are:\n",
    "<table style=\"border:1px solid black;\" align=\"left\">\n",
    "    <tr><th>Expression</th> <th>Values</th> </tr>\n",
    "    <tr><td> 'Remember, remember, the fifth of July.'.split() </td> <td>['Remember,', 'remember,', 'the', 'fifth', 'of', 'July.']</td></tr>\n",
    "    <tr><td> '-'.join('There can only one.'.split())</td> <td>There-can-only-one.</td></tr>\n",
    "</table>"
   ]
  },
  {
   "cell_type": "code",
   "execution_count": 3,
   "metadata": {},
   "outputs": [
    {
     "name": "stdout",
     "output_type": "stream",
     "text": [
      "['Remember,', 'remember,', 'the', 'fifth', 'of', 'July.']\n",
      "There-can-only-one.\n"
     ]
    }
   ],
   "source": [
    "print('Remember, remember, the fifth of July.'.split())\n",
    "print('-'.join('There can only one.'.split()))"
   ]
  },
  {
   "cell_type": "markdown",
   "metadata": {},
   "source": [
    "['Remember,', 'remember,', 'the', 'fifth', 'of', 'July.']\n",
    "<br>There-can-only-one."
   ]
  },
  {
   "cell_type": "markdown",
   "metadata": {},
   "source": [
    "<b>Q9. </b>What are the methods for right-justifying, left-justifying, and centering a string?"
   ]
  },
  {
   "cell_type": "markdown",
   "metadata": {},
   "source": [
    "<b> Answer:</b>\n",
    "\n",
    "The methods used for right-justifying, left-justifying and centering a string are:\n",
    "<table style=\"border:1px solid black;\" align=\"left\">\n",
    "    <tr><th>Operation</th> <th>Function</th> </tr>\n",
    "    <tr><td> right-justifying </td> <td>str.rjust(width, fillchar=' ')</td></tr>\n",
    "    <tr><td> left-justifying </td> <td>str.ljust(width, fillchar=' ')</td></tr>\n",
    "    <tr><td> Centering </td> <td>str.center(width, fillchar=' ')</td></tr>\n",
    "</table>"
   ]
  },
  {
   "cell_type": "code",
   "execution_count": 4,
   "metadata": {},
   "outputs": [
    {
     "name": "stdout",
     "output_type": "stream",
     "text": [
      "The original string is : ineuron \n",
      "\n",
      "The center aligned string is : \n",
      "++++++++++++++++ineuron+++++++++++++++++ \n",
      "\n",
      "The rjusting aligned string is : \n",
      "+++++++++++++++++++++++++++++++++ineuron \n",
      "\n",
      "The ljusting aligned string is : \n",
      "ineuron+++++++++++++++++++++++++++++++++\n"
     ]
    }
   ],
   "source": [
    "cstr = \"ineuron\"  \n",
    "print (\"The original string is : {}\".format(cstr),\"\\n\")  \n",
    "# Printing the center aligned string \n",
    "print (\"The center aligned string is : \")\n",
    "print (cstr.center(40,'+'),\"\\n\")\n",
    "print (\"The rjusting aligned string is : \")\n",
    "print(cstr.rjust(40,\"+\"),\"\\n\")\n",
    "print (\"The ljusting aligned string is : \")\n",
    "print(cstr.ljust(40,\"+\"))"
   ]
  },
  {
   "cell_type": "markdown",
   "metadata": {},
   "source": [
    "The original string is : ineuron \n",
    "\n",
    "The center aligned string is : \n",
    "<br>++++++++++++++++ineuron+++++++++++++++++ \n",
    "\n",
    "The rjusting aligned string is : \n",
    "<br>+++++++++++++++++++++++++++++++++ineuron \n",
    "\n",
    "The ljusting aligned string is : \n",
    "<br>ineuron+++++++++++++++++++++++++++++++++"
   ]
  },
  {
   "cell_type": "markdown",
   "metadata": {},
   "source": [
    "<b>Q10. </b>What is the best way to remove whitespace characters from the start or end?"
   ]
  },
  {
   "cell_type": "markdown",
   "metadata": {},
   "source": [
    "<b> Answer: </b> \n",
    "\n",
    "The best way to remove the whitespace characters from the start or end is by using <b>str.strip()</b> method."
   ]
  },
  {
   "cell_type": "code",
   "execution_count": 5,
   "metadata": {},
   "outputs": [
    {
     "name": "stdout",
     "output_type": "stream",
     "text": [
      "ineuron\n"
     ]
    }
   ],
   "source": [
    "cstr = \"                   ineuron        \" \n",
    "print(cstr.strip())"
   ]
  },
  {
   "cell_type": "markdown",
   "metadata": {},
   "source": [
    "ineuron"
   ]
  }
 ],
 "metadata": {
  "kernelspec": {
   "display_name": "Python 3 (ipykernel)",
   "language": "python",
   "name": "python3"
  },
  "language_info": {
   "codemirror_mode": {
    "name": "ipython",
    "version": 3
   },
   "file_extension": ".py",
   "mimetype": "text/x-python",
   "name": "python",
   "nbconvert_exporter": "python",
   "pygments_lexer": "ipython3",
   "version": "3.8.5"
  },
  "toc": {
   "base_numbering": 1,
   "nav_menu": {},
   "number_sections": true,
   "sideBar": true,
   "skip_h1_title": false,
   "title_cell": "Table of Contents",
   "title_sidebar": "Contents",
   "toc_cell": false,
   "toc_position": {},
   "toc_section_display": true,
   "toc_window_display": false
  }
 },
 "nbformat": 4,
 "nbformat_minor": 4
}
