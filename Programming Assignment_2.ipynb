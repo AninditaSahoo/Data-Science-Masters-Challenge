{
 "cells": [
  {
   "cell_type": "markdown",
   "metadata": {},
   "source": [
    "# Data Science Masters Challenge\n",
    "## Programming Assignment_2"
   ]
  },
  {
   "cell_type": "markdown",
   "metadata": {},
   "source": [
    "<b>Q1. </b> Write a Python program to convert kilometers to miles?"
   ]
  },
  {
   "cell_type": "code",
   "execution_count": 1,
   "metadata": {},
   "outputs": [
    {
     "name": "stdout",
     "output_type": "stream",
     "text": [
      "Kilometers : 5\n",
      "5.0 Km = 3.1075 miles\n"
     ]
    }
   ],
   "source": [
    "kilo = float(input(\"Kilometers : \"))\n",
    "print(\"{} Km = {:.4f} miles\".format(kilo,kilo/1.609))"
   ]
  },
  {
   "cell_type": "markdown",
   "metadata": {},
   "source": [
    "<b>Answer: \n",
    "<br>Kilometers : 5\n",
    "<br>5.0 Km = 3.1075 miles</b>"
   ]
  },
  {
   "cell_type": "markdown",
   "metadata": {},
   "source": [
    "<b>Q2. </b>Write a Python program to convert Celsius to Fahrenheit?"
   ]
  },
  {
   "cell_type": "code",
   "execution_count": 2,
   "metadata": {},
   "outputs": [
    {
     "name": "stdout",
     "output_type": "stream",
     "text": [
      "Celsius : 37.5\n",
      "37.5 celsius = 99.500 Fahrenheit\n"
     ]
    }
   ],
   "source": [
    "celsius = float(input(\"Celsius : \"))\n",
    "print(\"{} celsius = {:.3f} Fahrenheit\".format(celsius,(celsius*(9/5))+32))"
   ]
  },
  {
   "cell_type": "markdown",
   "metadata": {},
   "source": [
    "<b>Answer: \n",
    "<br>Celsius : 37.5\n",
    "<br>37.5 celsius = 99.500 Fahrenheit</b>"
   ]
  },
  {
   "cell_type": "markdown",
   "metadata": {},
   "source": [
    "<b>Q3. </b>Write a Python program to display calendar?"
   ]
  },
  {
   "cell_type": "code",
   "execution_count": 3,
   "metadata": {},
   "outputs": [
    {
     "name": "stdout",
     "output_type": "stream",
     "text": [
      "Year : 2022\n",
      "Month : 1\n",
      "    January 2022\n",
      "Mo Tu We Th Fr Sa Su\n",
      "                1  2\n",
      " 3  4  5  6  7  8  9\n",
      "10 11 12 13 14 15 16\n",
      "17 18 19 20 21 22 23\n",
      "24 25 26 27 28 29 30\n",
      "31\n",
      "\n"
     ]
    }
   ],
   "source": [
    "import calendar\n",
    "yy = int(input(\"Year : \"))  # year\n",
    "mm = int(input(\"Month : \"))    # month\n",
    "print(calendar.month(yy, mm))"
   ]
  },
  {
   "attachments": {
    "image.png": {
     "image/png": "[encoded data removed]"
    }
   },
   "cell_type": "markdown",
   "metadata": {},
   "source": [
    "<b>Answer : </b>\n",
    "![image.png](attachment:image.png)"
   ]
  },
  {
   "cell_type": "markdown",
   "metadata": {},
   "source": [
    "<b>Q4. </b>Write a Python program to solve quadratic equation?"
   ]
  },
  {
   "cell_type": "code",
   "execution_count": 4,
   "metadata": {},
   "outputs": [
    {
     "name": "stdout",
     "output_type": "stream",
     "text": [
      "a = 2\n",
      "b = 4\n",
      "c = 2\n",
      "The solution are -1.0 and -1.0\n"
     ]
    }
   ],
   "source": [
    "import math\n",
    "a = float(input(\"a = \"))\n",
    "b = float(input(\"b = \"))\n",
    "c = float(input(\"c = \"))\n",
    "d = math.pow(b,2) - (4*a*c)\n",
    "\n",
    "sol1 = (-b-math.sqrt(d))/(2*a)\n",
    "sol2 = (-b+math.sqrt(d))/(2*a)\n",
    "\n",
    "print('The solution are {} and {}'.format(sol1,sol2))"
   ]
  },
  {
   "cell_type": "markdown",
   "metadata": {},
   "source": [
    "<b>Answer : \n",
    "<br>a = 2\n",
    "<br>b = 4\n",
    "<br>c = 2\n",
    "<br>The solution are -1.0 and -1.0</b>"
   ]
  },
  {
   "cell_type": "markdown",
   "metadata": {},
   "source": [
    "<b>Q5. </b>Write a Python program to swap two variables without temp variable?"
   ]
  },
  {
   "cell_type": "code",
   "execution_count": 5,
   "metadata": {},
   "outputs": [
    {
     "name": "stdout",
     "output_type": "stream",
     "text": [
      "Enter 2 numbers (with space separated) : 5 4\n",
      "before swaping\n",
      "a = 5 , b = 4\n",
      "After swaping\n",
      "a = 4 , b = 5\n"
     ]
    }
   ],
   "source": [
    "a,b = input(\"Enter 2 numbers (with space separated) : \").split(\" \")\n",
    "print(\"before swaping\")\n",
    "print(\"a = {} , b = {}\".format(a,b))\n",
    "print(\"After swaping\")\n",
    "a,b = b,a\n",
    "print(\"a = {} , b = {}\".format(a,b))"
   ]
  },
  {
   "cell_type": "markdown",
   "metadata": {},
   "source": [
    "<b>Answer: \n",
    "<br>Enter 2 numbers (with space separated) : 5 4\n",
    "<br>before swaping\n",
    "<br>a = 5 , b = 4\n",
    "<br>After swaping\n",
    "<br>a = 4 , b = 5</b>"
   ]
  }
 ],
 "metadata": {
  "kernelspec": {
   "display_name": "Python 3 (ipykernel)",
   "language": "python",
   "name": "python3"
  },
  "language_info": {
   "codemirror_mode": {
    "name": "ipython",
    "version": 3
   },
   "file_extension": ".py",
   "mimetype": "text/x-python",
   "name": "python",
   "nbconvert_exporter": "python",
   "pygments_lexer": "ipython3",
   "version": "3.8.5"
  },
  "toc": {
   "base_numbering": 1,
   "nav_menu": {},
   "number_sections": true,
   "sideBar": true,
   "skip_h1_title": false,
   "title_cell": "Table of Contents",
   "title_sidebar": "Contents",
   "toc_cell": false,
   "toc_position": {},
   "toc_section_display": true,
   "toc_window_display": false
  }
 },
 "nbformat": 4,
 "nbformat_minor": 4
}
