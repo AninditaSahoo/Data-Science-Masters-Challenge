{
 "cells": [
  {
   "cell_type": "markdown",
   "metadata": {},
   "source": [
    "# Data Science Masters Challenge\n",
    "## Assignment -1 :"
   ]
  },
  {
   "cell_type": "markdown",
   "metadata": {},
   "source": [
    "<b>Q1. </b>In the below elements which of them are values or an  expression? eg:- values can be integer or string and expressions will be mathematical operators.\n",
    "<table style=\"border:1px solid black;\" align=\"left\">\n",
    "    <tr><td> * </td></tr>\n",
    "    <tr><td> 'hello' </td></tr>\n",
    "    <tr><td> -87.8 </td></tr>\n",
    "    <tr><td> - </td></tr>\n",
    "    <tr><td> / </td></tr>\n",
    "    <tr><td> + </td></tr>\n",
    "    <tr><td> 6 </td></tr>\n",
    "</table>"
   ]
  },
  {
   "cell_type": "markdown",
   "metadata": {},
   "source": [
    "<b> Answer </b> \n",
    "<table style=\"border:1px solid black;\" align=\"left\">\n",
    "    <tr text-align: center><th> Element</th><th> Type(Value/Expression)</th></tr>\n",
    "    <tr><td > * </td> <td> expression </td></tr>\n",
    "    <tr><td> 'hello' </td> <td> value </td></tr>\n",
    "    <tr><td> -87.8 </td><td> value </td></tr>\n",
    "    <tr><td> - </td><td> expression </td></tr>\n",
    "    <tr><td> / </td><td> expression </td></tr>\n",
    "    <tr><td> + </td><td> expression </td></tr>\n",
    "    <tr><td> 6 </td><td> value </td></tr>\n",
    "</table>"
   ]
  },
  {
   "cell_type": "markdown",
   "metadata": {},
   "source": [
    "<b>Q2. </b>What is the difference between string and variable?"
   ]
  },
  {
   "cell_type": "markdown",
   "metadata": {},
   "source": [
    "<b> Answer </b>\n",
    "\n",
    "<b> String:</b>\n",
    "    Anything enclosed in single or double quote.\n",
    "    E.g. institute = \"ineuron\". Here <b><i>\"ineuron\"</i></b> is the string\n",
    "    \n",
    "<b> Variable:</b>\n",
    "    Variable is a container. Variable is the usual way to reference the stored value.\n",
    "    E.g. institute = \"ineuron\". Here <b><i>institute</i></b> is the variable"
   ]
  },
  {
   "cell_type": "markdown",
   "metadata": {},
   "source": [
    "<b> Answer </b>\n",
    "<table style=\"border:1px solid black;\" align=\"left\">\n",
    "    <tr><th style=\"text-align:center\"> String</th><th style=\"text-align:center\"> Variable</th></tr>\n",
    "    <tr><td style=\"text-align:left\"> 1. Anything enclosed in single or double quote. </td><td style=\"text-align:left\"> 1. Variable is a container. Variable is the usual way to reference the stored value.</td></tr>\n",
    "    <tr><td style=\"text-align:left\">2. E.g. institute = \"ineuron\". Here <b><i>\"ineuron\"</i></b> is the string</td><td style=\"text-align:left\">2. E.g. institute = \"ineuron\". Here <b><i>institute</i></b> is the variable</td></tr>"
   ]
  },
  {
   "cell_type": "markdown",
   "metadata": {},
   "source": [
    "<b> Q3.</b> Describe three different data types."
   ]
  },
  {
   "cell_type": "markdown",
   "metadata": {},
   "source": [
    "<b> Answer </b>\n",
    "<ol><li>int</li>\n",
    "<li> float</li>\n",
    "<li> boolean</li>\n",
    "<li> complex</li>\n",
    "<li> String </li>\n",
    "<li> list </li>\n",
    "<li> tuple </li>\n",
    "<li> dictionary </li>\n",
    "<li> set </li>\n",
    "</ol>"
   ]
  },
  {
   "cell_type": "markdown",
   "metadata": {},
   "source": [
    "<b> Q4. </b> What is an expression made up of? What do all expressions do?"
   ]
  },
  {
   "cell_type": "markdown",
   "metadata": {},
   "source": [
    "<b> Answer </b>\n",
    "\n",
    "An expression is a construct made up of <b><i>variables</i></b>, <b><i>operators</i></b>, and <b><i>method invocations, </i></b>\n",
    "which are constructed according to the syntax of the language. It is genarally used for evaluating to a single value. "
   ]
  },
  {
   "cell_type": "markdown",
   "metadata": {},
   "source": [
    "<b>Q5. </b>This assignment statements, like spam = 10. What is the difference between an expression and a statement?"
   ]
  },
  {
   "cell_type": "markdown",
   "metadata": {},
   "source": [
    "<b> Answer </b>\n",
    "\n",
    "A statement forms a complete unit of execution. \n",
    "The following types of expressions can be made into a statement by terminating the expression with a semicolon (;).\n",
    "\n",
    "<li> Assignment statement: e.g.value = 45.67 </li>\n",
    "<li> increment statement: e.g. value++ </li>\n",
    "\n",
    "The expression can be converted into statement by terminating with semicolon. "
   ]
  },
  {
   "cell_type": "markdown",
   "metadata": {},
   "source": [
    "<b> Q6. </b> After running the following code, what does the variable bacon contain?\n",
    "\n",
    "bacon = 22\n",
    "\n",
    "bacon + 1"
   ]
  },
  {
   "cell_type": "markdown",
   "metadata": {},
   "source": [
    "<b> Answer </b>\n",
    "\n",
    "After running the following code, the value of bacon will be\n",
    "\n",
    "<b>bacon = 22</b>"
   ]
  },
  {
   "cell_type": "code",
   "execution_count": 1,
   "metadata": {},
   "outputs": [
    {
     "name": "stdout",
     "output_type": "stream",
     "text": [
      "22\n"
     ]
    }
   ],
   "source": [
    "bacon = 22\n",
    "bacon + 1\n",
    "print(bacon)"
   ]
  },
  {
   "cell_type": "markdown",
   "metadata": {},
   "source": [
    "<b> Q7. </b> What should the values of the following two terms be?\n",
    "\n",
    "'spam' + 'spamspam'\n",
    "\n",
    "'spam' * 3"
   ]
  },
  {
   "cell_type": "markdown",
   "metadata": {},
   "source": [
    "<b> Answer </b>\n",
    "\n",
    "The values of the following are:\n",
    "\n",
    "'spam' + 'spamspam' is <b>'spamspamspam' </b>\n",
    "\n",
    "spam' * 3  is <b>'spamspamspam' </b>"
   ]
  },
  {
   "cell_type": "code",
   "execution_count": 2,
   "metadata": {},
   "outputs": [
    {
     "name": "stdout",
     "output_type": "stream",
     "text": [
      "spamspamspam\n",
      "spamspamspam\n"
     ]
    }
   ],
   "source": [
    "print('spam' + 'spamspam')\n",
    "print('spam' * 3)"
   ]
  },
  {
   "cell_type": "markdown",
   "metadata": {},
   "source": [
    "<b>Q8. </b> Why is eggs a valid variable name while 100 is invalid?"
   ]
  },
  {
   "cell_type": "markdown",
   "metadata": {},
   "source": [
    "<b> Answer </b>\n",
    "\n",
    "Rules for python variables:\n",
    "<li> A variable name must start with a letter or special character underscore. </li>\n",
    "<li> A variable name can't start with a number. </li>\n",
    "<li> A variable name can only contain alpha-numeric character and underscores (A-Z, a-z, 0-9 and _). </li>\n",
    "<li> Variable name are case-sensitive. </li>\n",
    "\n",
    "As <b> egg </b> is starting with alphabet, it is a valid variable name, where as <b> 100</b> is starting with a number, it is not accepted."
   ]
  },
  {
   "cell_type": "markdown",
   "metadata": {},
   "source": [
    "<b> Q9.</b> What three functions can be used to get the integer, floating-point number, or string\n",
    "version of a value?"
   ]
  },
  {
   "cell_type": "markdown",
   "metadata": {},
   "source": [
    "<b> Answer </b>\n",
    "\n",
    "The int(), float(), and str() functions will evaluate to the integer, \n",
    "floating-point number, and string versions of the value passed to them."
   ]
  },
  {
   "cell_type": "markdown",
   "metadata": {},
   "source": [
    "<b> Q10.</b>Why does this expression cause an error? How can you fix it?\n",
    "\n",
    "'I have eaten' + 99 + 'burritos.'"
   ]
  },
  {
   "cell_type": "markdown",
   "metadata": {},
   "source": [
    "<b> Answer </b>\n",
    "\n",
    "<b>'I have eaten' + 99 + 'burritos.' </b> will cause an error, <b><i> as concatenation of integer and string is not possible.</i></b> \n",
    "\n",
    "This error can be rectified as:\n",
    "<ol><li> 'I have eaten' + <b>'99'</b> + 'burritos.'</li>\n",
    "    <li> 'I have eaten' + <b>str(99)</b> + 'burritos.'</li>"
   ]
  },
  {
   "cell_type": "code",
   "execution_count": 3,
   "metadata": {},
   "outputs": [
    {
     "name": "stdout",
     "output_type": "stream",
     "text": [
      "I have eaten99burritos.\n",
      "I have eaten99burritos.\n"
     ]
    }
   ],
   "source": [
    "print('I have eaten' + '99' + 'burritos.')\n",
    "print('I have eaten' + str(99) + 'burritos.')"
   ]
  }
 ],
 "metadata": {
  "kernelspec": {
   "display_name": "Python 3 (ipykernel)",
   "language": "python",
   "name": "python3"
  },
  "language_info": {
   "codemirror_mode": {
    "name": "ipython",
    "version": 3
   },
   "file_extension": ".py",
   "mimetype": "text/x-python",
   "name": "python",
   "nbconvert_exporter": "python",
   "pygments_lexer": "ipython3",
   "version": "3.8.5"
  },
  "toc": {
   "base_numbering": 1,
   "nav_menu": {},
   "number_sections": true,
   "sideBar": true,
   "skip_h1_title": false,
   "title_cell": "Table of Contents",
   "title_sidebar": "Contents",
   "toc_cell": false,
   "toc_position": {},
   "toc_section_display": true,
   "toc_window_display": false
  }
 },
 "nbformat": 4,
 "nbformat_minor": 4
}
