{
 "cells": [
  {
   "cell_type": "markdown",
   "metadata": {},
   "source": [
    "# Data Science Masters Challenge\n",
    "## Assignment -4:"
   ]
  },
  {
   "cell_type": "markdown",
   "metadata": {},
   "source": [
    "<b> Q1. </b> What exactly is [ ]?"
   ]
  },
  {
   "cell_type": "markdown",
   "metadata": {},
   "source": [
    "<b>Answer: </b>\n",
    "\n",
    "It indicates the list. It is creating an empty list."
   ]
  },
  {
   "cell_type": "code",
   "execution_count": 1,
   "metadata": {},
   "outputs": [
    {
     "data": {
      "text/plain": [
       "list"
      ]
     },
     "execution_count": 1,
     "metadata": {},
     "output_type": "execute_result"
    }
   ],
   "source": [
    "type([])"
   ]
  },
  {
   "cell_type": "markdown",
   "metadata": {},
   "source": [
    "list"
   ]
  },
  {
   "cell_type": "markdown",
   "metadata": {},
   "source": [
    "<b> Q2. </b> In a list of values stored in a variable called spam, how would you assign the value 'hello' as the\n",
    "third value? (Assume [2, 4, 6, 8, 10] are in spam.)"
   ]
  },
  {
   "cell_type": "markdown",
   "metadata": {},
   "source": [
    "<b> Answer: </b>"
   ]
  },
  {
   "cell_type": "code",
   "execution_count": 2,
   "metadata": {},
   "outputs": [
    {
     "name": "stdout",
     "output_type": "stream",
     "text": [
      "[2, 4, 6, 8, 10]\n",
      "[2, 4, 'hello', 8, 10]\n"
     ]
    }
   ],
   "source": [
    "spam = [2,4,6,8,10]\n",
    "print(spam)\n",
    "spam[2] = \"hello\"\n",
    "print(spam)"
   ]
  },
  {
   "cell_type": "markdown",
   "metadata": {},
   "source": [
    "[2, 4, 6, 8, 10]\n",
    "<br>[2, 4, 'hello', 8, 10]"
   ]
  },
  {
   "cell_type": "markdown",
   "metadata": {},
   "source": [
    "Let's pretend the spam includes the list ['a', 'b', 'c', 'd'] for this queries.\n",
    "\n",
    "<b>Q3. </b>What is the value of spam[int(int('3'* 2) / 11)]?"
   ]
  },
  {
   "cell_type": "markdown",
   "metadata": {},
   "source": [
    "<b> Answer:</b>\n",
    "\n",
    "The value of the above code is : <b> 'd' </b>"
   ]
  },
  {
   "cell_type": "code",
   "execution_count": 3,
   "metadata": {},
   "outputs": [
    {
     "data": {
      "text/plain": [
       "'d'"
      ]
     },
     "execution_count": 3,
     "metadata": {},
     "output_type": "execute_result"
    }
   ],
   "source": [
    "spam = ['a', 'b', 'c', 'd'] \n",
    "spam[int(int('3'* 2) / 11)]# = spam[int(33/11)]"
   ]
  },
  {
   "cell_type": "markdown",
   "metadata": {},
   "source": [
    "Let's pretend the spam includes the list ['a', 'b', 'c', 'd'] for this queries.\n",
    "\n",
    "<b> Q4. </b>What is the value of spam[-1]?"
   ]
  },
  {
   "cell_type": "markdown",
   "metadata": {},
   "source": [
    "<b> Answer : </b>\n",
    "\n",
    "d"
   ]
  },
  {
   "cell_type": "code",
   "execution_count": 4,
   "metadata": {},
   "outputs": [
    {
     "data": {
      "text/plain": [
       "'d'"
      ]
     },
     "execution_count": 4,
     "metadata": {},
     "output_type": "execute_result"
    }
   ],
   "source": [
    "spam = ['a', 'b', 'c', 'd'] \n",
    "spam[-1]"
   ]
  },
  {
   "cell_type": "markdown",
   "metadata": {},
   "source": [
    "Let's pretend the spam includes the list ['a', 'b', 'c', 'd'] for this queries.\n",
    "\n",
    "<b> Q5. </b>What is the value of spam[:2]?"
   ]
  },
  {
   "cell_type": "markdown",
   "metadata": {},
   "source": [
    "<b> Answer : </b>\n",
    "\n",
    "['a', 'b']"
   ]
  },
  {
   "cell_type": "code",
   "execution_count": 5,
   "metadata": {},
   "outputs": [
    {
     "data": {
      "text/plain": [
       "['a', 'b']"
      ]
     },
     "execution_count": 5,
     "metadata": {},
     "output_type": "execute_result"
    }
   ],
   "source": [
    "spam = ['a', 'b', 'c', 'd'] \n",
    "spam[:2]"
   ]
  },
  {
   "cell_type": "markdown",
   "metadata": {},
   "source": [
    "Let's pretend bacon has the list [3.14, 'cat',11, 'cat',True] for this questions.\n",
    "\n",
    "<b>Q6. </b>What is the value of bacon.index('cat')?"
   ]
  },
  {
   "cell_type": "markdown",
   "metadata": {},
   "source": [
    "<b> Answer: </b>\n",
    "\n",
    "1"
   ]
  },
  {
   "cell_type": "code",
   "execution_count": 6,
   "metadata": {},
   "outputs": [
    {
     "data": {
      "text/plain": [
       "1"
      ]
     },
     "execution_count": 6,
     "metadata": {},
     "output_type": "execute_result"
    }
   ],
   "source": [
    "bacon = [3.14, 'cat',11, 'cat',True]\n",
    "bacon.index('cat')"
   ]
  },
  {
   "cell_type": "markdown",
   "metadata": {},
   "source": [
    "Let's pretend bacon has the list [3.14, 'cat',11, 'cat',True] for this questions.\n",
    "\n",
    "<b>Q7. </b>How does bacon.append(99) change the look of the list value in bacon?"
   ]
  },
  {
   "cell_type": "markdown",
   "metadata": {},
   "source": [
    "<b>Answer: </b>\n",
    "\n",
    "[3.14, 'cat', 11, 'cat', True]\n",
    "<br>[3.14, 'cat', 11, 'cat', True, 99]"
   ]
  },
  {
   "cell_type": "code",
   "execution_count": 7,
   "metadata": {},
   "outputs": [
    {
     "name": "stdout",
     "output_type": "stream",
     "text": [
      "[3.14, 'cat', 11, 'cat', True]\n",
      "[3.14, 'cat', 11, 'cat', True, 99]\n"
     ]
    }
   ],
   "source": [
    "bacon = [3.14, 'cat',11, 'cat',True]\n",
    "print(bacon)\n",
    "bacon.append(99) # it will add 99 to end of the list \n",
    "print(bacon)"
   ]
  },
  {
   "cell_type": "markdown",
   "metadata": {},
   "source": [
    "Let's pretend bacon has the list [3.14, 'cat',11, 'cat',True] for this questions.\n",
    "\n",
    "<b>Q8. </b>How does bacon.remove('cat') change the look of the list in bacon?"
   ]
  },
  {
   "cell_type": "markdown",
   "metadata": {},
   "source": [
    "<b> Answer: </b>\n",
    "\n",
    "[3.14, 'cat', 11, 'cat', True]\n",
    "<br>[3.14, 11, 'cat', True]"
   ]
  },
  {
   "cell_type": "code",
   "execution_count": 8,
   "metadata": {},
   "outputs": [
    {
     "name": "stdout",
     "output_type": "stream",
     "text": [
      "[3.14, 'cat', 11, 'cat', True]\n",
      "[3.14, 11, 'cat', True]\n"
     ]
    }
   ],
   "source": [
    "bacon = [3.14, 'cat',11, 'cat',True]\n",
    "print(bacon)\n",
    "bacon.remove('cat') # remove the element in the list from the location it has appeared for the first time.\n",
    "print(bacon)"
   ]
  },
  {
   "cell_type": "markdown",
   "metadata": {},
   "source": [
    "<b> Q9. </b> What are the list concatenation and list replication operators?"
   ]
  },
  {
   "cell_type": "markdown",
   "metadata": {},
   "source": [
    "<b> Answer: </b>"
   ]
  },
  {
   "cell_type": "code",
   "execution_count": 9,
   "metadata": {},
   "outputs": [
    {
     "name": "stdout",
     "output_type": "stream",
     "text": [
      "list concatination operation :  ['a', 2, 5.6, (4+6j)]\n",
      "list replication operation   :  ['a', 2, 'a', 2]\n"
     ]
    }
   ],
   "source": [
    "# list concatination operator\n",
    "l1 =[\"a\",2]\n",
    "l2 = [5.6,4+6j]\n",
    "print(\"list concatination operation : \",l1 + l2)\n",
    "\n",
    "# list replication operator\n",
    "l1 =[\"a\",2]\n",
    "print(\"list replication operation   : \",l1*2)"
   ]
  },
  {
   "cell_type": "markdown",
   "metadata": {},
   "source": [
    "list concatination operation :  ['a', 2, 5.6, (4+6j)]\n",
    "<br>list replication operation   :  ['a', 2, 'a', 2]"
   ]
  },
  {
   "cell_type": "markdown",
   "metadata": {},
   "source": [
    "<b>Q10. </b> What is difference between the list methods append() and insert()?"
   ]
  },
  {
   "cell_type": "markdown",
   "metadata": {},
   "source": [
    "<b>Answer: </b>"
   ]
  },
  {
   "cell_type": "code",
   "execution_count": 10,
   "metadata": {},
   "outputs": [
    {
     "name": "stdout",
     "output_type": "stream",
     "text": [
      "Original list    :  ['a', 2]\n",
      "append operation :  ['a', 2, 'v']\n",
      "insert opeartion :  ['a', 56.7, 2, 'v']\n"
     ]
    }
   ],
   "source": [
    "l1 =[\"a\",2]\n",
    "print(\"Original list    : \",l1)\n",
    "l1.append(\"v\")\n",
    "print(\"append operation : \",l1) # add the element at the end of the list\n",
    "l1.insert(1,56.7)\n",
    "print(\"insert opeartion : \",l1) # can add element to any index location"
   ]
  },
  {
   "cell_type": "markdown",
   "metadata": {},
   "source": [
    "Original list    :  ['a', 2]\n",
    "<br>append operation :  ['a', 2, 'v']\n",
    "<br>insert opeartion :  ['a', 56.7, 2, 'v']"
   ]
  },
  {
   "cell_type": "markdown",
   "metadata": {},
   "source": [
    "<b>Q11. </b> What are the two methods for removing items from a list?"
   ]
  },
  {
   "cell_type": "markdown",
   "metadata": {},
   "source": [
    "<b> Answer: </b>"
   ]
  },
  {
   "cell_type": "code",
   "execution_count": 11,
   "metadata": {},
   "outputs": [
    {
     "name": "stdout",
     "output_type": "stream",
     "text": [
      "Original list       :  ['a', 56.7, 2, 'v', (8+6j), 'verify', True]\n",
      "After remove method :  ['a', 56.7, 2, 'v', 'verify', True]\n",
      "After pop method    :  ['a', 2, 'v', 'verify', True]\n",
      "After del()         :  ['a', 2, 'v', True]\n"
     ]
    }
   ],
   "source": [
    "l = ['a', 56.7, 2, 'v',8+6j,\"verify\",True]\n",
    "print(\"Original list       : \",l)\n",
    "l.remove(8+6j)\n",
    "print(\"After remove method : \",l)\n",
    "l.pop(1)\n",
    "print(\"After pop method    : \",l)\n",
    "\n",
    "# we also can discard the element using del()\n",
    "del(l[3])\n",
    "print(\"After del()         : \",l)"
   ]
  },
  {
   "cell_type": "markdown",
   "metadata": {},
   "source": [
    "Original list       :  ['a', 56.7, 2, 'v', (8+6j), 'verify', True]\n",
    "<br>After remove method :  ['a', 56.7, 2, 'v', 'verify', True]\n",
    "<br>After pop method    :  ['a', 2, 'v', 'verify', True]\n",
    "<br>After del( )         :  ['a', 2, 'v', True]"
   ]
  },
  {
   "cell_type": "markdown",
   "metadata": {},
   "source": [
    "<b>Q12. </b> Describe how list values and string values are identical."
   ]
  },
  {
   "cell_type": "markdown",
   "metadata": {},
   "source": [
    "<b>Answer: </b>\n",
    "\n",
    "Lists are similar to strings, which are ordered collections of characters, except that the elements of a list can have any type and for any one list, the items can be of different types.\n",
    "<li>Strings can be defined as sequential collections of characters and a list is a sequential collection of Python data values, where each value is identified by an index.</li>\n",
    "<li> String is a ordered collection of character, List is also a ordered collection, where it contains elements of any type. </li>\n",
    "<li> for any list, the items in it can be of different types.</li>"
   ]
  },
  {
   "cell_type": "markdown",
   "metadata": {},
   "source": [
    "<b>Q13. </b>What's the difference between tuples and lists?"
   ]
  },
  {
   "cell_type": "markdown",
   "metadata": {},
   "source": [
    "<b> Answer : </b> \n",
    "<table style=\"border:1px solid black;\" align=\"left\">\n",
    "    <tr><th>Tuples</th> <th>lists</th> </tr>\n",
    "    <tr><td> immutable </td> <td>mutable</td></tr>\n",
    "    <tr><td> elements are defined within ( ) </td> <td>elements are defined within [ ] </td></tr>\n",
    "    <tr><td> e.g. p = (1,\"a\",3.4,True,5+7j,(4,5),[\"a\",5],{1,2,\"s\"},{1:\"a\"}) </td><td>e.g. p = [1,\"a\",3.4,True,5+7j,(4,5),[\"a\",5],{1,2,\"s\"},{1:\"a\"}]</td></tr>\n",
    "    <tr><td> The methods supported under tuples are : <li>count</li><li> index</li> </td> <td>The methods supported under tuples are : <li>append </li><li>clear</li><li>copy</li> <li>count</li> <li>extend</li><li>index</li><li>insert</li><li>pop</li><li>remove</li><li>reverse</li><li>sort</li> </td></tr>\n",
    "</table>"
   ]
  },
  {
   "cell_type": "markdown",
   "metadata": {},
   "source": [
    "<b>Q14. </b>How do you type a tuple value that only contains the integer 42?"
   ]
  },
  {
   "cell_type": "markdown",
   "metadata": {},
   "source": [
    "<b> Answer : </b>"
   ]
  },
  {
   "cell_type": "code",
   "execution_count": 12,
   "metadata": {},
   "outputs": [
    {
     "name": "stdout",
     "output_type": "stream",
     "text": [
      " index : 6 value : 42\n"
     ]
    }
   ],
   "source": [
    "t = (1,\"a\",3.4,True,5+7j,(4,5),42,[\"a\",5],{1,2,\"s\"},{1:\"a\"})\n",
    "for k,v in enumerate(t):\n",
    "    if v == 42:\n",
    "        print(\" index :\",k,\"value :\",v)"
   ]
  },
  {
   "cell_type": "markdown",
   "metadata": {},
   "source": [
    "index : 6 value : 42"
   ]
  },
  {
   "cell_type": "markdown",
   "metadata": {},
   "source": [
    "<b>Q15.How do you get a list value's tuple form? How do you get a tuple value's list form?"
   ]
  },
  {
   "cell_type": "markdown",
   "metadata": {},
   "source": [
    "<b> Answer : </b>"
   ]
  },
  {
   "cell_type": "code",
   "execution_count": 13,
   "metadata": {},
   "outputs": [
    {
     "name": "stdout",
     "output_type": "stream",
     "text": [
      "Type of l = <class 'list'> Type of t = <class 'tuple'>\n",
      "After type casting\n",
      "Type of l = <class 'tuple'> Type of t = <class 'list'>\n"
     ]
    }
   ],
   "source": [
    "t = tuple()\n",
    "l = list()\n",
    "print(\"Type of l =\",type(l),\"Type of t =\",type(t))\n",
    "t = list(t)\n",
    "l = tuple(l)\n",
    "print(\"After type casting\")\n",
    "print(\"Type of l =\",type(l),\"Type of t =\",type(t))"
   ]
  },
  {
   "cell_type": "markdown",
   "metadata": {},
   "source": [
    "Type of l = <class 'list'> Type of t = <class 'tuple'>\n",
    "<br>After type casting\n",
    "<br>Type of l = <class 'tuple'> Type of t = <class 'list'>"
   ]
  },
  {
   "cell_type": "markdown",
   "metadata": {},
   "source": [
    "<b>Q16. </b> Variables that \"contain\" list values are not necessarily lists themselves. Instead, what do they\n",
    "contain?"
   ]
  },
  {
   "cell_type": "markdown",
   "metadata": {},
   "source": [
    "<b> Answer: </b> \n",
    "    \n",
    "Python variable is a symbolic name that is a reference or pointer to an object."
   ]
  },
  {
   "cell_type": "markdown",
   "metadata": {},
   "source": [
    "<b>Q17. </b> How do you distinguish between copy.copy() and copy.deepcopy()?"
   ]
  },
  {
   "cell_type": "markdown",
   "metadata": {},
   "source": [
    " <b> Answer: </b>\n",
    " \n",
    "<table style=\"border:1px solid black;\" align=\"left\">\n",
    "    <tr><th>Shallow copy</th> <th>Deep copy</th> </tr>\n",
    "    <tr><td> <b>Denoted as :</b> copy.copy( ) </td> <td><b>Denoted as :</b> copy.deepcopy( )</td></tr>\n",
    "    <tr><td>The copying process does not recurse and therefore won’t create copies of the child objects  </td> <td>Deep copy is a process in which the copying process occurs recursively.</td></tr>\n",
    "    <tr><td>It first construct a new collection object and then populating it with references to the child objects found in the original.  </td><td>First it construct a new collection object and then recursively populating it with copies of the child objects found in the original.</td></tr>\n",
    "    <tr><td>A reference of object is copied in other object</td><td>A copy of object is copied in other object</td></tr>\n",
    "    <tr><td><b><u> Program:</u></b><br>import copy<br>l1 = [1, 2, [3,4], 5]<br>print(\"l1 =\",l1)<br>l2 = copy.deepcopy(l1) <br>l2[2][0] = 0<br>print(\"After copy.deepcopy()\")<br>print(\"l1 =\",l1)<br>print(\"l2 =\",l2)<br><b><u>Output:</u></b><br>l1 = [1, 2, [3, 4], 5]\n",
    "<br>After copy.copy()\n",
    "<br>l1 = [1, 2, [0, 4], 5]\n",
    "<br>l2 = [1, 2, [0, 4], 5]</td><td><b><u> Program:</u></b><br>import copy<br>l1 = [1, 2, [3,4], 5]<br>print(\"l1 =\",l1)<br>l2 = copy.deepcopy(l1) <br>l2[2][0] = 0<br>print(\"After copy.deepcopy()\")<br>print(\"l1 =\",l1)<br>print(\"l2 =\",l2)<br><b><u>Output:</u></b><br>l1 = [1, 2, [3, 4], 5]\n",
    "<br>After copy.deepcopy()\n",
    "<br>l1 = [1, 2, [3, 4], 5]\n",
    "<br>l2 = [1, 2, [0, 4], 5]</td></tr>\n",
    "</table>"
   ]
  },
  {
   "cell_type": "code",
   "execution_count": 14,
   "metadata": {},
   "outputs": [
    {
     "name": "stdout",
     "output_type": "stream",
     "text": [
      "Original values       l1 = [1, 2, [3, 4], 5]                        id(l1) : 2812472559168\n",
      "With copy.copy()      l1 = [1, 2, [0, 4], 5] l2 = [1, 2, [0, 4], 5] id(l1) : 2812472559168 ld(l2) : 2812472561152\n",
      "With copy.deepcopy()  l1 = [1, 2, [0, 4], 5] l2 = [1, 2, [8, 4], 5] id(l1) : 2812472559168 id(l2) : 2812472847616\n"
     ]
    }
   ],
   "source": [
    "import copy\n",
    "l1 = [1, 2, [3,4], 5]\n",
    "l2 = copy.copy(l1) \n",
    "print(\"Original values\",\"      l1 =\",l1,\"                       id(l1) :\",id(l1))\n",
    "l2[2][0] = 0\n",
    "print(\"With copy.copy()\",\"     l1 =\",l1,\"l2 =\",l2,\"id(l1) :\",id(l1),\"ld(l2) :\",id(l2))\n",
    "\n",
    "l2 = copy.deepcopy(l1)\n",
    "l2[2][0] = 8\n",
    "print(\"With copy.deepcopy()\",\" l1 =\",l1,\"l2 =\",l2,\"id(l1) :\",id(l1),\"id(l2) :\",id(l2))"
   ]
  },
  {
   "cell_type": "markdown",
   "metadata": {},
   "source": [
    "Original values       l1 = [1, 2, [3, 4], 5]                        id(l1) : 2812472559168\n",
    "<br>With copy.copy()      l1 = [1, 2, [0, 4], 5] l2 = [1, 2, [0, 4], 5] id(l1) : 2812472559168 ld(l2) : 2812472561152\n",
    "<br>With copy.deepcopy()  l1 = [1, 2, [0, 4], 5] l2 = [1, 2, [8, 4], 5] id(l1) : 2812472559168 id(l2) : 2812472847616"
   ]
  }
 ],
 "metadata": {
  "kernelspec": {
   "display_name": "Python 3 (ipykernel)",
   "language": "python",
   "name": "python3"
  },
  "language_info": {
   "codemirror_mode": {
    "name": "ipython",
    "version": 3
   },
   "file_extension": ".py",
   "mimetype": "text/x-python",
   "name": "python",
   "nbconvert_exporter": "python",
   "pygments_lexer": "ipython3",
   "version": "3.8.5"
  },
  "toc": {
   "base_numbering": 1,
   "nav_menu": {},
   "number_sections": true,
   "sideBar": true,
   "skip_h1_title": false,
   "title_cell": "Table of Contents",
   "title_sidebar": "Contents",
   "toc_cell": false,
   "toc_position": {},
   "toc_section_display": true,
   "toc_window_display": false
  }
 },
 "nbformat": 4,
 "nbformat_minor": 4
}
